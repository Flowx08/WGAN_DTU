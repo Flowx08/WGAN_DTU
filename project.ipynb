{
  "cells": [
    {
      "cell_type": "markdown",
      "metadata": {
        "id": "XPPysUMOZxgz"
      },
      "source": [
        "## Generative adversarial networks\n",
        "### Generating of MNIST digits with a GAN"
      ]
    },
    {
      "cell_type": "markdown",
      "metadata": {
        "id": "MWaSbs51Z5lN"
      },
      "source": [
        "Setting up"
      ]
    },
    {
      "cell_type": "code",
      "execution_count": 26,
      "metadata": {
        "colab": {
          "base_uri": "https://localhost:8080/"
        },
        "id": "cV8YxhB6Z5lN",
        "outputId": "4a180048-1400-4ab5-b208-073c1e127987"
      },
      "outputs": [
        {
          "output_type": "stream",
          "name": "stdout",
          "text": [
            "Looking in indexes: https://pypi.org/simple, https://us-python.pkg.dev/colab-wheels/public/simple/\n",
            "Requirement already satisfied: tqdm in /usr/local/lib/python3.7/dist-packages (4.64.1)\n",
            "Looking in indexes: https://pypi.org/simple, https://us-python.pkg.dev/colab-wheels/public/simple/\n",
            "Requirement already satisfied: torchsummary in /usr/local/lib/python3.7/dist-packages (1.5.1)\n"
          ]
        }
      ],
      "source": [
        "!pip3 install tqdm\n",
        "!pip3 install torchsummary"
      ]
    },
    {
      "cell_type": "code",
      "execution_count": 27,
      "metadata": {
        "id": "TlFFUmfoZxg1"
      },
      "outputs": [],
      "source": [
        "import numpy as np\n",
        "from tqdm.notebook import tqdm\n",
        "import torch\n",
        "import torch.nn as nn\n",
        "import torch.nn.functional as F\n",
        "import torchvision.datasets as datasets\n",
        "from torchsummary import summary\n",
        "from torch.autograd.variable import Variable\n",
        "from torch.utils.data import DataLoader\n",
        "from torch.autograd import grad as torch_grad\n",
        "import torchvision.transforms as transforms\n",
        "from IPython import display\n",
        "import matplotlib.pylab as plt\n",
        "import ipywidgets"
      ]
    },
    {
      "cell_type": "markdown",
      "metadata": {
        "id": "UKTYJngTuOtG"
      },
      "source": [
        "Check that we're running on GPU, and initialize our device"
      ]
    },
    {
      "cell_type": "code",
      "execution_count": 28,
      "metadata": {
        "colab": {
          "base_uri": "https://localhost:8080/"
        },
        "id": "RLcplSTKZxg4",
        "outputId": "e5e663ec-738c-434f-88aa-1edfce4c30c8"
      },
      "outputs": [
        {
          "output_type": "stream",
          "name": "stdout",
          "text": [
            "The code will run on GPU.\n"
          ]
        }
      ],
      "source": [
        "if torch.cuda.is_available():\n",
        "    print(\"The code will run on GPU.\")\n",
        "    device = torch.device('cuda')\n",
        "elif torch.backends.mps.is_available():\n",
        "    print(\"The code will run on GPU for MacOS devices with Metal programming framework.\")\n",
        "    device = torch.device('mps')\n",
        "else:\n",
        "    print(\"The code will run on CPU. Go to Edit->Notebook Settings and choose GPU as the hardware accelerator\")\n",
        "    device = torch.device('cpu')"
      ]
    },
    {
      "cell_type": "markdown",
      "metadata": {
        "id": "lV2YzpnSuUwt"
      },
      "source": [
        "Setup our MNIST dataloaders"
      ]
    },
    {
      "cell_type": "code",
      "execution_count": 29,
      "metadata": {
        "id": "hSXlDTz0Zxg7"
      },
      "outputs": [],
      "source": [
        "batch_size = 64               # Batch size\n",
        "nz = 100                      # Size of the input noise vector\n",
        "ngf = 64                      # Scale number of conv filters in generator\n",
        "ndf = 64                      # Scale number of conv filters in discriminator\n",
        "nc = 3                        # Number of channels in the output image (RGB or black and white ecc)\n",
        "model_input_size = 32         # Used to determine which model to use, options: (28, 32)\n",
        "datasetName = \"CIFAR10\"       # Either MNIST, FashionMNIST or CIFAR10\n",
        "useLSGAN = False              # If enabled uses least squared criterion instead of binary cross entropy (only if useWGAN=False)\n",
        "useWGAN = True                # If true make the GAN a WGAN\n",
        "weights_clip_value = 0.01     # When using WGAN clip weights of discriminator in range (-clip, +clip)"
      ]
    },
    {
      "cell_type": "code",
      "execution_count": 30,
      "metadata": {
        "colab": {
          "base_uri": "https://localhost:8080/",
          "height": 71
        },
        "id": "4VT-RsQ0Z5lQ",
        "outputId": "831a38ad-a9ed-4345-ae16-1cd1ef7c2fba"
      },
      "outputs": [
        {
          "output_type": "stream",
          "name": "stdout",
          "text": [
            "Files already downloaded and verified\n",
            "Files already downloaded and verified\n"
          ]
        },
        {
          "output_type": "execute_result",
          "data": {
            "text/plain": [
              "'\\n\\n'"
            ],
            "application/vnd.google.colaboratory.intrinsic+json": {
              "type": "string"
            }
          },
          "metadata": {},
          "execution_count": 30
        }
      ],
      "source": [
        "# MNIST dataset\n",
        "if datasetName == \"MNIST\":\n",
        "  trainset = datasets.MNIST('./data', train=True, download=True, transform=transforms.Compose([\n",
        "                           transforms.Resize(28),\n",
        "                           transforms.ToTensor(),\n",
        "                           transforms.Normalize((0.5,), (0.5,)),\n",
        "                       ]))\n",
        "  train_loader = DataLoader(trainset, batch_size=batch_size, shuffle=True)\n",
        "  testset = datasets.MNIST('./data', train=False, download=True, transform=transforms.Compose([\n",
        "                           transforms.Resize(28),\n",
        "                           transforms.ToTensor(),\n",
        "                           transforms.Normalize((0.5,), (0.5,)),\n",
        "                       ]))\n",
        "  test_loader = DataLoader(testset, batch_size=batch_size, shuffle=False)\n",
        "elif datasetName == \"FashionMNIST\":\n",
        "  trainset = datasets.FashionMNIST('./data', train=True, download=True, transform=transforms.Compose([\n",
        "                           transforms.Resize(28),\n",
        "                           transforms.ToTensor(),\n",
        "                           transforms.Normalize((0.5,), (0.5,)),\n",
        "                       ]))\n",
        "  train_loader = DataLoader(trainset, batch_size=batch_size, shuffle=True)\n",
        "  testset = datasets.FashionMNIST('./data', train=False, download=True, transform=transforms.Compose([\n",
        "                           transforms.Resize(28),\n",
        "                           transforms.ToTensor(),\n",
        "                           transforms.Normalize((0.5,), (0.5,)),\n",
        "                       ]))\n",
        "  test_loader = DataLoader(testset, batch_size=batch_size, shuffle=False)\n",
        "elif datasetName == \"CIFAR10\":\n",
        "  trainset = datasets.CIFAR10('./data', train=True, download=True, transform=transforms.Compose([\n",
        "                           transforms.Resize(32),\n",
        "                           transforms.ToTensor(),\n",
        "                           transforms.Normalize((0.5,), (0.5,)),\n",
        "                       ]))\n",
        "  train_loader = DataLoader(trainset, batch_size=batch_size, shuffle=True)\n",
        "  testset = datasets.CIFAR10('./data', train=False, download=True, transform=transforms.Compose([\n",
        "                           transforms.Resize(32),\n",
        "                           transforms.ToTensor(),\n",
        "                           transforms.Normalize((0.5,), (0.5,)),\n",
        "                       ]))\n",
        "  test_loader = DataLoader(testset, batch_size=batch_size, shuffle=False)\n",
        "\n",
        "# Fashion MNIST dataset\n",
        "\"\"\"\n",
        "\n",
        "\"\"\""
      ]
    },
    {
      "cell_type": "code",
      "execution_count": 31,
      "metadata": {
        "colab": {
          "base_uri": "https://localhost:8080/"
        },
        "id": "1oja2hUiZ5lR",
        "outputId": "9c593482-04b6-46e0-8b45-6c28c7d7b917"
      },
      "outputs": [
        {
          "output_type": "execute_result",
          "data": {
            "text/plain": [
              "torch.Size([128, 14, 14])"
            ]
          },
          "metadata": {},
          "execution_count": 31
        }
      ],
      "source": [
        "# SIZE TESTS\n",
        "# ========================\n",
        "a = nn.ConvTranspose2d( nz, ngf * 8, 4, 1, 0, bias=False)\n",
        "b = nn.ConvTranspose2d(ngf * 8, ngf * 4, 3, 2, 1, bias=False)\n",
        "c = nn.ConvTranspose2d( ngf * 4, ngf * 2, 4, 2, 1, bias=False)\n",
        "n = torch.rand(100, 1, 1)\n",
        "c(b(a(n))).shape"
      ]
    },
    {
      "cell_type": "markdown",
      "metadata": {
        "id": "M7n3gtt6Z5lR"
      },
      "source": [
        "## DCGAN"
      ]
    },
    {
      "cell_type": "markdown",
      "metadata": {
        "id": "dhxprWbiZxg-"
      },
      "source": [
        "Implement **generator** network."
      ]
    },
    {
      "cell_type": "code",
      "execution_count": 32,
      "metadata": {
        "id": "5N31KfHDYwjn"
      },
      "outputs": [],
      "source": [
        "# custom weights initialization called on netG and netD\n",
        "def weights_init(m):\n",
        "    classname = m.__class__.__name__\n",
        "    if classname.find('Conv') != -1:\n",
        "        nn.init.normal_(m.weight.data, 0.0, 0.02)\n",
        "    elif classname.find('BatchNorm') != -1:\n",
        "        nn.init.normal_(m.weight.data, 1.0, 0.02)\n",
        "        nn.init.constant_(m.bias.data, 0)"
      ]
    },
    {
      "cell_type": "code",
      "execution_count": 33,
      "metadata": {
        "id": "aHYx5QejZxg_"
      },
      "outputs": [],
      "source": [
        "class Generator(nn.Module):\n",
        "    def __init__(self, input_size):\n",
        "        super(Generator, self).__init__()\n",
        "        self.input_size = input_size\n",
        "\n",
        "        \"\"\"\n",
        "        self.fullyconnected = nn.Sequential(\n",
        "            nn.Linear(nz, 1024),\n",
        "            nn.LeakyReLU(0.1),\n",
        "            nn.BatchNorm1d(num_features=1024),\n",
        "            nn.Linear(1024, 1024),\n",
        "            nn.LeakyReLU(0.1),\n",
        "            nn.BatchNorm1d(num_features=1024),\n",
        "            nn.Linear(1024, 1024),\n",
        "            nn.LeakyReLU(0.1),\n",
        "            nn.BatchNorm1d(num_features=1024),\n",
        "            nn.Linear(1024, 1024),\n",
        "            nn.LeakyReLU(0.1),\n",
        "            nn.Linear(1024, model_input_size * model_input_size),\n",
        "            nn.Tanh(),\n",
        "        )\n",
        "        \"\"\"\n",
        "        \n",
        "        self.dcmodel = 0\n",
        "        if (model_input_size == 28):\n",
        "          self.dcmodel = nn.Sequential(\n",
        "            # input is Z, going into a convolution\n",
        "            nn.ConvTranspose2d(     nz, ngf * 8, 4, 1, 0, bias=False),\n",
        "            nn.BatchNorm2d(ngf * 8),\n",
        "            nn.ReLU(True),\n",
        "            # state size. (ngf*8) x 4 x 4\n",
        "            nn.ConvTranspose2d(ngf * 8, ngf * 4, 4, 2, 1, bias=False),\n",
        "            nn.BatchNorm2d(ngf * 4),\n",
        "            nn.ReLU(True),\n",
        "            # state size. (ngf*4) x 8 x 8\n",
        "            nn.ConvTranspose2d(ngf * 4, ngf * 2, 4, 2, 1, bias=False),\n",
        "            nn.BatchNorm2d(ngf * 2),\n",
        "            nn.ReLU(True),\n",
        "            # state size. (ngf*2) x 16 x 16\n",
        "            nn.ConvTranspose2d(ngf * 2,     ngf, 4, 2, 1, bias=False),\n",
        "            nn.BatchNorm2d(ngf),\n",
        "            nn.ReLU(True),\n",
        "\n",
        "            nn.ConvTranspose2d(    ngf,      nc, kernel_size=1, stride=1, padding=2, bias=False),\n",
        "            nn.Tanh()\n",
        "          )\n",
        "        elif (model_input_size == 32):\n",
        "          self.dcmodel = nn.Sequential(\n",
        "            # input is Z, going into a convolution\n",
        "            nn.ConvTranspose2d( nz, ngf * 8, 4, 1, 0, bias=False),\n",
        "            nn.BatchNorm2d(ngf * 8),\n",
        "            nn.ReLU(True),\n",
        "            # state size. (ngf*8) x 4 x 4\n",
        "            nn.ConvTranspose2d(ngf * 8, ngf * 4, 4, 2, 1, bias=False),\n",
        "            nn.BatchNorm2d(ngf * 4),\n",
        "            nn.ReLU(True),\n",
        "            # state size. (ngf*4) x 8 x 8\n",
        "            nn.ConvTranspose2d( ngf * 4, ngf * 2, 4, 2, 1, bias=False),\n",
        "            nn.BatchNorm2d(ngf * 2),\n",
        "            nn.ReLU(True),\n",
        "            # state size. (ngf*2) x 16 x 16\n",
        "            nn.ConvTranspose2d( ngf * 2, nc, 4, 2, 1, bias=False),\n",
        "            nn.Tanh()\n",
        "            # state size. (nc) x 32 x 32\n",
        "          )\n",
        "\n",
        "    def forward(self, x):\n",
        "        # FEEDFOREWARD MODEL\n",
        "        #x = x.view(x.size(0), -1)\n",
        "        #x = self.fullyconnected(x)\n",
        "        #x = x.view(x.size(0), 1, 28, 28)\n",
        "\n",
        "        # CONVOLUTIONAL MODEL\n",
        "        x = self.dcmodel(x)\n",
        "        return x"
      ]
    },
    {
      "cell_type": "markdown",
      "metadata": {
        "id": "tGcxpGzQZxhD"
      },
      "source": [
        "Implement **discriminator** network."
      ]
    },
    {
      "cell_type": "code",
      "execution_count": 34,
      "metadata": {
        "id": "e7GEvrDvZxhD"
      },
      "outputs": [],
      "source": [
        "class Discriminator(nn.Module):\n",
        "    def __init__(self):\n",
        "        super(Discriminator, self).__init__()\n",
        "\n",
        "        \"\"\"\n",
        "        self.fulluconnected = nn.Sequential(\n",
        "            nn.Linear(model_input_size * model_input_size, 1024),\n",
        "            nn.Dropout(p=0.3),\n",
        "            nn.LeakyReLU(0.1),\n",
        "            #nn.BatchNorm1d(num_features=1024)\n",
        "            nn.Linear(1024, 512),\n",
        "            nn.Dropout(p=0.3),\n",
        "            nn.LeakyReLU(0.1),\n",
        "            #nn.BatchNorm1d(num_features=512),\n",
        "            nn.Linear(512, 256),\n",
        "            nn.Dropout(p=0.3),\n",
        "            nn.LeakyReLU(0.1),\n",
        "            #nn.BatchNorm1d(num_features=256),\n",
        "            nn.Linear(256, 1),\n",
        "        )\n",
        "        \"\"\"\n",
        "\n",
        "        self.dcmodel = 0\n",
        "        if (model_input_size == 28):\n",
        "          self.dcmodel = nn.Sequential(\n",
        "            # input is (nc) x 64 x 64\n",
        "            nn.Conv2d(nc, ndf, 4, 2, 1, bias=False),\n",
        "            nn.LeakyReLU(0.2, inplace=True),\n",
        "            # state size. (ndf) x 32 x 32\n",
        "            nn.Conv2d(ndf, ndf * 2, 4, 2, 1, bias=False),\n",
        "            nn.BatchNorm2d(ndf * 2),\n",
        "            nn.LeakyReLU(0.2, inplace=True),\n",
        "            # state size. (ndf*2) x 16 x 16\n",
        "            nn.Conv2d(ndf * 2, ndf * 4, 4, 2, 1, bias=False),\n",
        "            nn.BatchNorm2d(ndf * 4),\n",
        "            nn.LeakyReLU(0.2, inplace=True),\n",
        "            # state size. (ndf*4) x 8 x 8\n",
        "            nn.Conv2d(ndf * 4, 1, 3, 1, 0, bias=False),\n",
        "          )\n",
        "        elif (model_input_size == 32):\n",
        "          self.dcmodel = nn.Sequential(\n",
        "            # state size. (nc) x 32 x 32\n",
        "            nn.Conv2d(nc, ndf * 2, 4, 2, 1, bias=False),\n",
        "            nn.LeakyReLU(0.2, inplace=True),\n",
        "            # state size. (ndf*2) x 16 x 16\n",
        "            nn.Conv2d(ndf * 2, ndf * 4, 4, 2, 1, bias=False),\n",
        "            nn.BatchNorm2d(ndf * 4),\n",
        "            nn.LeakyReLU(0.2, inplace=True),\n",
        "            # state size. (ndf*4) x 8 x 8\n",
        "            nn.Conv2d(ndf * 4, ndf * 8, 4, 2, 1, bias=False),\n",
        "            nn.BatchNorm2d(ndf * 8),\n",
        "            nn.LeakyReLU(0.2, inplace=True),\n",
        "            # state size. (ndf*8) x 4 x 4\n",
        "            nn.Conv2d(ndf * 8, 1, 4, 1, 0, bias=False),\n",
        "            nn.Sigmoid()\n",
        "        )\n",
        "    \n",
        "    def forward(self, x):\n",
        "        # FEEDFOREWARD MODEL\n",
        "        #x = x.view(x.size(0), -1)\n",
        "        #x = self.fulluconnected(x)\n",
        "\n",
        "        # CONVOLUTIONAL MODEL\n",
        "        x = self.dcmodel(x)\n",
        "        if (not useWGAN and not useLSGAN):\n",
        "          x = torch.sigmoid(x)\n",
        "        x = x.view(x.size(0), 1)        \n",
        "        return x"
      ]
    },
    {
      "cell_type": "code",
      "execution_count": 35,
      "metadata": {
        "id": "3ZEyJf434bY4"
      },
      "outputs": [],
      "source": [
        "def gradient_penalty(d, real_data, generated_data):\n",
        "    use_cuda = True\n",
        "    gp_weight = 10\n",
        "    batch_size = real_data.size()[0]\n",
        "\n",
        "    # Calculate interpolation\n",
        "    alpha = torch.rand(batch_size, 1, 1, 1)\n",
        "    alpha = alpha.expand_as(real_data)\n",
        "    if use_cuda:\n",
        "      alpha = alpha.cuda()\n",
        "    interpolated = alpha * real_data.data + (1 - alpha) * generated_data.data\n",
        "    interpolated = Variable(interpolated, requires_grad=True)\n",
        "    if use_cuda:\n",
        "      interpolated = interpolated.cuda()\n",
        "\n",
        "    # Calculate probability of interpolated examples\n",
        "    prob_interpolated = d(interpolated)\n",
        "\n",
        "    # Calculate gradients of probabilities with respect to examples\n",
        "    gradients = torch_grad(outputs=prob_interpolated, inputs=interpolated,\n",
        "                               grad_outputs=torch.ones(prob_interpolated.size()).cuda() if use_cuda else torch.ones(\n",
        "                               prob_interpolated.size()),\n",
        "                               create_graph=True, retain_graph=True)[0]\n",
        "\n",
        "    # Gradients have shape (batch_size, num_channels, img_width, img_height),\n",
        "    # so flatten to easily take norm per example in batch\n",
        "    gradients = gradients.view(batch_size, -1)\n",
        "\n",
        "    # Derivatives of the gradient close to 0 can cause problems because of\n",
        "    # the square root, so manually calculate norm and add epsilon\n",
        "    gradients_norm = torch.sqrt(torch.sum(gradients ** 2, dim=1) + 1e-12)\n",
        "\n",
        "    # Return gradient penalty\n",
        "    return gp_weight * ((gradients_norm - 1) ** 2).mean()"
      ]
    },
    {
      "cell_type": "markdown",
      "metadata": {
        "id": "jWDuWiwP-pj6"
      },
      "source": [
        "Utility functions that are handy"
      ]
    },
    {
      "cell_type": "code",
      "execution_count": 36,
      "metadata": {
        "id": "iI6i8YWqZ5lT"
      },
      "outputs": [],
      "source": [
        "\n",
        "\n",
        "def make_ones(size):\n",
        "    data = Variable(torch.ones(size, 1))\n",
        "    return data.to(device)\n",
        "\n",
        "def make_filled(size, value):\n",
        "    data = Variable(torch.full(size, value))\n",
        "    return data.to(device)\n",
        "\n",
        "def make_zeros(size):\n",
        "    data = Variable(torch.zeros(size, 1))\n",
        "    return data.to(device)\n",
        "\n",
        "#def make_noise(batch_size, size):\n",
        "#    return torch.randn(batch_size, size).to(device)\n",
        "\n",
        "def make_noise(batch_size, size):\n",
        "    return torch.randn(batch_size, size, 1, 1).to(device)\n",
        "    "
      ]
    },
    {
      "cell_type": "markdown",
      "source": [
        "Create generator and discriminator "
      ],
      "metadata": {
        "id": "l14H49bUfLg8"
      }
    },
    {
      "cell_type": "code",
      "source": [
        "d = Discriminator().to(device)\n",
        "d.apply(weights_init)\n",
        "summary(d, (nc, model_input_size, model_input_size))\n",
        "g = Generator(nz).to(device)\n",
        "g.apply(weights_init)\n",
        "summary(g, (nz, 1, 1))"
      ],
      "metadata": {
        "colab": {
          "base_uri": "https://localhost:8080/"
        },
        "id": "2QsfeEOFfJsy",
        "outputId": "b3f4eb34-c181-40dc-92f2-d0c1145d4acf"
      },
      "execution_count": 37,
      "outputs": [
        {
          "output_type": "stream",
          "name": "stdout",
          "text": [
            "----------------------------------------------------------------\n",
            "        Layer (type)               Output Shape         Param #\n",
            "================================================================\n",
            "            Conv2d-1          [-1, 128, 16, 16]           6,144\n",
            "         LeakyReLU-2          [-1, 128, 16, 16]               0\n",
            "            Conv2d-3            [-1, 256, 8, 8]         524,288\n",
            "       BatchNorm2d-4            [-1, 256, 8, 8]             512\n",
            "         LeakyReLU-5            [-1, 256, 8, 8]               0\n",
            "            Conv2d-6            [-1, 512, 4, 4]       2,097,152\n",
            "       BatchNorm2d-7            [-1, 512, 4, 4]           1,024\n",
            "         LeakyReLU-8            [-1, 512, 4, 4]               0\n",
            "            Conv2d-9              [-1, 1, 1, 1]           8,192\n",
            "          Sigmoid-10              [-1, 1, 1, 1]               0\n",
            "================================================================\n",
            "Total params: 2,637,312\n",
            "Trainable params: 2,637,312\n",
            "Non-trainable params: 0\n",
            "----------------------------------------------------------------\n",
            "Input size (MB): 0.01\n",
            "Forward/backward pass size (MB): 1.06\n",
            "Params size (MB): 10.06\n",
            "Estimated Total Size (MB): 11.13\n",
            "----------------------------------------------------------------\n",
            "----------------------------------------------------------------\n",
            "        Layer (type)               Output Shape         Param #\n",
            "================================================================\n",
            "   ConvTranspose2d-1            [-1, 512, 4, 4]         819,200\n",
            "       BatchNorm2d-2            [-1, 512, 4, 4]           1,024\n",
            "              ReLU-3            [-1, 512, 4, 4]               0\n",
            "   ConvTranspose2d-4            [-1, 256, 8, 8]       2,097,152\n",
            "       BatchNorm2d-5            [-1, 256, 8, 8]             512\n",
            "              ReLU-6            [-1, 256, 8, 8]               0\n",
            "   ConvTranspose2d-7          [-1, 128, 16, 16]         524,288\n",
            "       BatchNorm2d-8          [-1, 128, 16, 16]             256\n",
            "              ReLU-9          [-1, 128, 16, 16]               0\n",
            "  ConvTranspose2d-10            [-1, 3, 32, 32]           6,144\n",
            "             Tanh-11            [-1, 3, 32, 32]               0\n",
            "================================================================\n",
            "Total params: 3,448,576\n",
            "Trainable params: 3,448,576\n",
            "Non-trainable params: 0\n",
            "----------------------------------------------------------------\n",
            "Input size (MB): 0.00\n",
            "Forward/backward pass size (MB): 1.36\n",
            "Params size (MB): 13.16\n",
            "Estimated Total Size (MB): 14.52\n",
            "----------------------------------------------------------------\n"
          ]
        }
      ]
    },
    {
      "cell_type": "markdown",
      "source": [
        "Train model"
      ],
      "metadata": {
        "id": "DrgB6QSxfRWK"
      }
    },
    {
      "cell_type": "code",
      "execution_count": null,
      "metadata": {
        "colab": {
          "base_uri": "https://localhost:8080/",
          "height": 663
        },
        "id": "fn8RKyxLZxhG",
        "outputId": "cd2f7a91-097d-410f-c3c5-dde3984b1065"
      },
      "outputs": [
        {
          "output_type": "display_data",
          "data": {
            "text/plain": [
              "<Figure size 1440x720 with 12 Axes>"
            ],
            "image/png": "[encoded data removed]"
          },
          "metadata": {}
        }
      ],
      "source": [
        "# Create optimizer\n",
        "if (useWGAN):\n",
        "  d_opt = torch.optim.RMSprop(d.parameters(), lr=0.00005)\n",
        "  g_opt = torch.optim.RMSprop(g.parameters(), lr=0.00005)\n",
        "else:\n",
        "  d_opt = torch.optim.Adam(d.parameters(), lr=0.0001, betas=(0.5, 0.999))\n",
        "  g_opt = torch.optim.Adam(g.parameters(),  lr=0.0001, betas=(0.5, 0.999))\n",
        "\n",
        "# Choose loss function\n",
        "if (useLSGAN):\n",
        "  d_loss_fun = nn.MSELoss()\n",
        "else:\n",
        "  d_loss_fun = nn.BCELoss()\n",
        "\n",
        "# Setup training\n",
        "plt.figure(figsize=(20,10))\n",
        "subplots = [plt.subplot(2, 6, k+1) for k in range(12)]\n",
        "num_epochs = 10\n",
        "if (useWGAN):\n",
        "  iterations_discriminator = 5\n",
        "else:\n",
        "  iterations_discriminator = 1\n",
        "\n",
        "# Set models to training mode\n",
        "d.train()\n",
        "g.train()\n",
        "epoch_size = len(train_loader) \n",
        "for epoch in range(num_epochs):\n",
        "    g_loss = d_loss = 0.0\n",
        "    g_losses = []\n",
        "    d_losses = []\n",
        "    subplots[-1].clear()\n",
        "    torch.save(g.state_dict(), \"generator.pt\")\n",
        "    torch.save(d.state_dict(), \"discriminator.pt\")\n",
        "    for i in range(epoch_size):\n",
        "\n",
        "        def train_discriminator(optimizer):\n",
        "            \n",
        "            #train discriminator to recognize real images\n",
        "            loss = 0.0\n",
        "            for k in range(iterations_discriminator):\n",
        "                d.zero_grad() #reset gradients\n",
        "\n",
        "                # Get batch of real images\n",
        "                x, target = next(iter(train_loader))\n",
        "                x_real = x.to(device)\n",
        "\n",
        "                # Get batch of fake images\n",
        "                x_fake = g(make_noise(batch_size, g.input_size))\n",
        "        \n",
        "                #remember to detach x_fake before using it to compute the discriminator loss\n",
        "                #otherwise the discriminator loss will backpropagate through the generator as well, which is unnecessary.\n",
        "                x_fake = x_fake.detach()\n",
        "\n",
        "                # Train discriminator on real images\n",
        "                prediction_real = d(x_real)\n",
        "                n = prediction_real.size(0) #get batch size\n",
        "                if (useWGAN):\n",
        "                  d_loss_real = -prediction_real.mean() # Maximize prediction\n",
        "                  d_loss_real.backward()\n",
        "                else:\n",
        "                  d_loss_real = d_loss_fun(prediction_real, make_ones(n))\n",
        "                  d_loss_real.backward()\n",
        "\n",
        "                # Train discriminator on fake fake images\n",
        "                prediction_fake = d(x_fake)\n",
        "                n = prediction_fake.size(0) #get batch size\n",
        "                if (useWGAN):\n",
        "                  d_loss_fake = prediction_fake.mean() # Minimize prediction\n",
        "                  d_loss_fake.backward()\n",
        "                  #d_loss_fake = d_loss_fun(prediction_fake, make_filled(n, -1.0)) #for WGAN\n",
        "                else:\n",
        "                  d_loss_fake = d_loss_fun(prediction_fake, make_zeros(n)) #for V.GAN & LSGAN\n",
        "                  d_loss_fake.backward()\n",
        "        \n",
        "                #update weights\n",
        "                optimizer.step()\n",
        "\n",
        "                # Clip discriminator weights\n",
        "                if (useWGAN):\n",
        "                  for parm in d.parameters():\n",
        "                    parm.data.clamp_(-weights_clip_value, weights_clip_value)\n",
        "                \n",
        "                # Update loss\n",
        "                if (useWGAN):\n",
        "                  loss += d_loss_real.detach().cpu().numpy() - d_loss_fake.detach().cpu().numpy()\n",
        "                else:\n",
        "                  loss += d_loss_real.detach().cpu().numpy() + d_loss_fake.detach().cpu().numpy()\n",
        "            return loss\n",
        "\n",
        "        def train_generator(optimizer):\n",
        "            g.zero_grad() #reset gradients\n",
        "\n",
        "            x_fake = g(make_noise(batch_size, g.input_size))\n",
        "        \n",
        "            #train generator to fool discriminator\n",
        "            prediction = d(x_fake)\n",
        "            n = prediction.size(0) #get batch size\n",
        "            if (useWGAN):\n",
        "              g_loss = -prediction.mean() # Maximize prediction\n",
        "            else:\n",
        "              g_loss = d_loss_fun(prediction, make_ones(n))\n",
        "            g_loss.backward()\n",
        "        \n",
        "            #update weights\n",
        "            optimizer.step()\n",
        "\n",
        "            return g_loss.detach().cpu().numpy()\n",
        "        \n",
        "        #====================\n",
        "        # Update discriminator\n",
        "        #====================\n",
        "        #make real and fake image\n",
        "        d_losses.append(train_discriminator(d_opt))\n",
        "        d_loss += d_losses[-1]\n",
        "        \n",
        "        #========================\n",
        "        # Update generator\n",
        "        #========================\n",
        "        #feed random noise to generator\n",
        "        g_losses.append(train_generator(g_opt))\n",
        "        g_loss += g_losses[-1]\n",
        "        \n",
        "        assert(not np.isnan(d_loss))\n",
        "        #Plot results every 100 minibatches\n",
        "        if i % 100 == 0:\n",
        "            with torch.no_grad():\n",
        "                x_fake = g(make_noise(batch_size, g.input_size)).detach()\n",
        "                P = d(x_fake)\n",
        "                for k in range(11):\n",
        "                    x_fake_k = x_fake[k].cpu().squeeze() / 2 + 0.5 # between 0,1\n",
        "                    if (nc > 1): #change format with channels in the end for imshow\n",
        "                      x_fake_k = x_fake_k.swapaxes(0,1)\n",
        "                      x_fake_k = x_fake_k.swapaxes(1,2)\n",
        "                    subplots[k].imshow(x_fake_k, cmap='gray')\n",
        "                    subplots[k].set_title('d(x)=%.2f' % P[k])\n",
        "                    subplots[k].axis('off')\n",
        "                #subplots[-1].cla()\n",
        "                subplots[-1].plot(np.arange(len(g_losses)), g_losses)\n",
        "                subplots[-1].plot(np.arange(len(d_losses)), d_losses)\n",
        "                #subplots[-1].set_xlabel('Probability of being real')\n",
        "                subplots[-1].set_title('Discriminator and generator training loss')\n",
        "                \n",
        "                title = 'Epoch {e} - minibatch {n}/{d}'.format(e=epoch+1, n=i, d=epoch_size)\n",
        "                plt.gcf().suptitle(title, fontsize=20)\n",
        "                display.display(plt.gcf())\n",
        "                print('Epoch {}: g_loss: {:.8f} d_loss: {:.8f}\\r'.format(epoch, g_loss/max(1, i), d_loss/max(1, i * iterations_discriminator)))\n",
        "                display.clear_output(wait=True)\n",
        "                "
      ]
    },
    {
      "cell_type": "code",
      "execution_count": null,
      "metadata": {
        "id": "2KF-Yqw-Z5lV"
      },
      "outputs": [],
      "source": [
        "g.load_state_dict(torch.load(\"generator.pt\"))\n",
        "g.eval()\n",
        "target_image = g(make_noise(1, g.input_size)).detach()\n",
        "target_image = target_image[0].cpu().squeeze() / 2 + 0.5\n",
        "plt.imshow(target_image, cmap='gray')\n",
        "\n",
        "\n",
        "x_fake = g(make_noise(1, g.input_size)).detach()"
      ]
    },
    {
      "cell_type": "code",
      "execution_count": null,
      "metadata": {
        "id": "dVlpyK84Z5lV"
      },
      "outputs": [],
      "source": [
        "def interpolate_linear_points(p1, p2, n_steps=10):\n",
        "    # interpolate ratios between the points\n",
        "    ratios = np.linspace(0, 1, num=n_steps)\n",
        "    # linear interpolate vectors\n",
        "    vectors = list()\n",
        "    for ratio in ratios:\n",
        "        v = (1.0 - ratio) * p1 + ratio * p2\n",
        "    vectors.append(v)\n",
        "    return asarray(vectors)\n",
        "\n",
        "# spherical linear interpolation (slerp)\n",
        "def slerp(val, low, high):\n",
        "    omega = arccos(clip(dot(low/norm(low), high/norm(high)), -1, 1))\n",
        "    so = sin(omega)\n",
        "    if so == 0:\n",
        "        # L'Hopital's rule/LERP\n",
        "        return (1.0-val) * low + val * high\n",
        "    return sin((1.0-val)*omega) / so * low + sin(val*omega) / so * high\n",
        " \n",
        "# uniform interpolation between two points in latent space\n",
        "def interpolate_spherical_points(p1, p2, n_steps=10):\n",
        "    # interpolate ratios between the points\n",
        "    ratios = np.linspace(0, 1, num=n_steps)\n",
        "    # linear interpolate vectors\n",
        "    vectors = list()\n",
        "    for ratio in ratios:\n",
        "        v = slerp(ratio, p1, p2)\n",
        "        vectors.append(v)\n",
        "    return asarray(vectors)\n",
        "\n",
        "print(interpolate_linear_points([0, 1, 0], [1, 0, 1]))"
      ]
    },
    {
      "cell_type": "markdown",
      "metadata": {
        "id": "hkxvhqFMZ5lV"
      },
      "source": [
        "## WGAN\n",
        "The differences in implementation for the WGAN are as follows:\n",
        "1. Use a linear activation function in the output layer of the critic model (instead of sigmoid). DONE\n",
        "2. Use -1 labels for real images and 1 labels for fake images (instead of 1 and 0). DONE\n",
        "3. Use Wasserstein loss to train the critic and generator models. DONE\n",
        "4. Constrain critic model weights to a limited range after each mini batch update (e.g. [-0.01,0.01]). DONE\n",
        "5. Update the critic model more times than the generator each iteration (e.g. 5). DONE\n",
        "6. Use the RMSProp version of gradient descent with a small learning rate and no momentum (e.g. 0.00005). DONE\n"
      ]
    }
  ],
  "metadata": {
    "accelerator": "GPU",
    "colab": {
      "collapsed_sections": [],
      "provenance": []
    },
    "kernelspec": {
      "display_name": "Python 3.9.6 64-bit",
      "language": "python",
      "name": "python3"
    },
    "language_info": {
      "codemirror_mode": {
        "name": "ipython",
        "version": 3
      },
      "file_extension": ".py",
      "mimetype": "text/x-python",
      "name": "python",
      "nbconvert_exporter": "python",
      "pygments_lexer": "ipython3",
      "version": "3.9.6"
    },
    "vscode": {
      "interpreter": {
        "hash": "31f2aee4e71d21fbe5cf8b01ff0e069b9275f58929596ceb00d14d90e3e16cd6"
      }
    }
  },
  "nbformat": 4,
  "nbformat_minor": 0
}