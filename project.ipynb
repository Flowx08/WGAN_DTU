{
 "cells": [
  {
   "cell_type": "markdown",
   "metadata": {
    "id": "XPPysUMOZxgz"
   },
   "source": [
    "## Generative adversarial networks\n",
    "### Generating of MNIST digits with a GAN"
   ]
  },
  {
   "cell_type": "code",
   "execution_count": 2,
   "metadata": {
    "id": "TlFFUmfoZxg1"
   },
   "outputs": [],
   "source": [
    "import numpy as np\n",
    "from tqdm.notebook import tqdm\n",
    "import torch\n",
    "import torch.nn as nn\n",
    "import torch.nn.functional as F\n",
    "import torchvision.datasets as datasets\n",
    "from torch.autograd.variable import Variable\n",
    "from torch.utils.data import DataLoader\n",
    "import torchvision.transforms as transforms\n",
    "from IPython import display\n",
    "import matplotlib.pylab as plt\n",
    "import ipywidgets"
   ]
  },
  {
   "cell_type": "markdown",
   "metadata": {
    "id": "UKTYJngTuOtG"
   },
   "source": [
    "Check that we're running on GPU, and initialize our device"
   ]
  },
  {
   "cell_type": "code",
   "execution_count": 3,
   "metadata": {
    "id": "RLcplSTKZxg4"
   },
   "outputs": [
    {
     "name": "stdout",
     "output_type": "stream",
     "text": [
      "The code will run on GPU.\n"
     ]
    }
   ],
   "source": [
    "if torch.cuda.is_available():\n",
    "    print(\"The code will run on GPU.\")\n",
    "else:\n",
    "    print(\"The code will run on CPU. Go to Edit->Notebook Settings and choose GPU as the hardware accelerator\")\n",
    "device = torch.device('cuda' if torch.cuda.is_available() else 'cpu')"
   ]
  },
  {
   "cell_type": "markdown",
   "metadata": {
    "id": "lV2YzpnSuUwt"
   },
   "source": [
    "Setup our MNIST dataloaders"
   ]
  },
  {
   "cell_type": "code",
   "execution_count": 4,
   "metadata": {
    "id": "hSXlDTz0Zxg7"
   },
   "outputs": [],
   "source": [
    "batch_size = 64\n",
    "trainset = datasets.MNIST('./data', train=True, download=True, transform=transforms.ToTensor())\n",
    "train_loader = DataLoader(trainset, batch_size=batch_size, shuffle=True)\n",
    "testset = datasets.MNIST('./data', train=False, download=True, transform=transforms.ToTensor())\n",
    "test_loader = DataLoader(testset, batch_size=batch_size, shuffle=False)"
   ]
  },
  {
   "cell_type": "code",
   "execution_count": 5,
   "metadata": {
    "id": "hSXlDTz0Zxg7"
   },
   "outputs": [],
   "source": [
    "batch_size = 64\n",
    "trainset = datasets.MNIST('./data', train=True, download=True, transform=transforms.ToTensor())\n",
    "train_loader = DataLoader(trainset, batch_size=batch_size, shuffle=True)\n",
    "testset = datasets.MNIST('./data', train=False, download=True, transform=transforms.ToTensor())\n",
    "test_loader = DataLoader(testset, batch_size=batch_size, shuffle=False)"
   ]
  },
  {
   "cell_type": "markdown",
   "metadata": {},
   "source": [
    "## LSGAN"
   ]
  },
  {
   "cell_type": "markdown",
   "metadata": {
    "id": "dhxprWbiZxg-"
   },
   "source": [
    "Implement **generator** network."
   ]
  },
  {
   "cell_type": "code",
   "execution_count": 6,
   "metadata": {
    "id": "aHYx5QejZxg_"
   },
   "outputs": [],
   "source": [
    "class Generator(nn.Module):\n",
    "    def __init__(self):\n",
    "        super(Generator, self).__init__()\n",
    "        self.input_size = 100\n",
    "        self.fully_connected_input = nn.Sequential(\n",
    "            nn.Linear(self.input_size, 1024),\n",
    "            nn.LeakyReLU(0.1),\n",
    "            nn.BatchNorm1d(num_features=1024)\n",
    "        )\n",
    "        self.fully_connected_blocks = nn.Sequential(\n",
    "            nn.Linear(1024, 1024),\n",
    "            nn.LeakyReLU(0.1),\n",
    "            nn.BatchNorm1d(num_features=1024),\n",
    "            nn.Linear(1024, 1024),\n",
    "            nn.LeakyReLU(0.1),\n",
    "            nn.BatchNorm1d(num_features=1024),\n",
    "            nn.Linear(1024, 1024),\n",
    "            nn.LeakyReLU(0.1),\n",
    "            #nn.BatchNorm1d(num_features=1024)\n",
    "        )\n",
    "        self.fully_connected_output = nn.Sequential(\n",
    "            nn.Linear(1024, 28 * 28),\n",
    "            nn.Tanh(),\n",
    "        )\n",
    "        \n",
    "    def forward(self, x):\n",
    "        x = self.fully_connected_input(x)\n",
    "        x = self.fully_connected_blocks(x)\n",
    "        x = self.fully_connected_output(x)\n",
    "        x = x.view(x.size(0), 1, 28, 28)\n",
    "        return x"
   ]
  },
  {
   "cell_type": "markdown",
   "metadata": {
    "id": "tGcxpGzQZxhD"
   },
   "source": [
    "Implement **discriminator** network."
   ]
  },
  {
   "cell_type": "code",
   "execution_count": 7,
   "metadata": {
    "id": "e7GEvrDvZxhD"
   },
   "outputs": [],
   "source": [
    "class Discriminator(nn.Module):\n",
    "    def __init__(self):\n",
    "        super(Discriminator, self).__init__()\n",
    "        self.fully_connected_input = nn.Sequential(\n",
    "            nn.Linear(28 * 28, 1024),\n",
    "            nn.Dropout(p=0.3),\n",
    "            nn.LeakyReLU(0.1),\n",
    "            #nn.BatchNorm1d(num_features=1024)\n",
    "        )\n",
    "        self.fully_connected_blocks = nn.Sequential(\n",
    "            nn.Linear(1024, 512),\n",
    "            nn.Dropout(p=0.3),\n",
    "            nn.LeakyReLU(0.1),\n",
    "            #nn.BatchNorm1d(num_features=512),\n",
    "            nn.Linear(512, 256),\n",
    "            nn.Dropout(p=0.3),\n",
    "            nn.LeakyReLU(0.1),\n",
    "            #nn.BatchNorm1d(num_features=256),\n",
    "        )\n",
    "        self.fully_connected_output = nn.Sequential(\n",
    "            nn.Linear(256, 1),\n",
    "            #nn.Sigmoid() #not usefull for LSGAN\n",
    "        )\n",
    "    \n",
    "    def forward(self, x):\n",
    "        x = x.view(x.size(0), -1)\n",
    "        x = self.fully_connected_input(x)\n",
    "        x = self.fully_connected_blocks(x)\n",
    "        x = self.fully_connected_output(x)\n",
    "        return x"
   ]
  },
  {
   "cell_type": "markdown",
   "metadata": {
    "id": "jWDuWiwP-pj6"
   },
   "source": [
    "Train model."
   ]
  },
  {
   "cell_type": "code",
   "execution_count": 11,
   "metadata": {},
   "outputs": [],
   "source": [
    "d = Discriminator().to(device)\n",
    "g = Generator().to(device)\n",
    "\n",
    "def make_ones(size):\n",
    "    data = Variable(torch.ones(size, 1))\n",
    "    return data.to(device)\n",
    "\n",
    "def make_filled(size, value):\n",
    "    data = Variable(torch.full(size, value))\n",
    "    return data.to(device)\n",
    "\n",
    "def make_zeros(size):\n",
    "    data = Variable(torch.zeros(size, 1))\n",
    "    return data.to(device)\n",
    "\n",
    "def make_noise(batch_size, size):\n",
    "    return torch.randn(batch_size, size).to(device)"
   ]
  },
  {
   "cell_type": "code",
   "execution_count": 8,
   "metadata": {
    "id": "fn8RKyxLZxhG"
   },
   "outputs": [
    {
     "data": {
      "image/png": "[encoded data removed]",
      "text/plain": [
       "<Figure size 1440x720 with 12 Axes>"
      ]
     },
     "metadata": {
      "needs_background": "light"
     },
     "output_type": "display_data"
    }
   ],
   "source": [
    "#Initialize networks\n",
    "d_opt = torch.optim.Adam(d.parameters(), 0.0004, (0.5, 0.999))\n",
    "g_opt = torch.optim.Adam(g.parameters(), 0.0001, (0.5, 0.999))\n",
    "#d_opt = torch.optim.Adam(d.parameters(), lr=2e-4)\n",
    "#g_opt = torch.optim.Adam(g.parameters(), lr=2e-4)\n",
    "\n",
    "plt.figure(figsize=(20,10))\n",
    "subplots = [plt.subplot(2, 6, k+1) for k in range(12)]\n",
    "num_epochs = 10\n",
    "\n",
    "d.train()\n",
    "g.train()\n",
    "d_loss_fun = nn.MSELoss()\n",
    "for epoch in range(num_epochs):\n",
    "    g_loss = d_loss = 0.0\n",
    "    g_losses = []\n",
    "    d_losses = []\n",
    "    subplots[-1].clear()\n",
    "    torch.save(g.state_dict(), \"generator.pt\")\n",
    "    torch.save(d.state_dict(), \"discriminator.pt\")\n",
    "    for minibatch_no, (x, target) in enumerate(train_loader):\n",
    "\n",
    "        def train_discriminator(optimizer, x_real, x_fake):\n",
    "            d.zero_grad() #reset gradients\n",
    "        \n",
    "            #train discriminator to recognize real images\n",
    "            loss = 0.0\n",
    "            for k in range(5):\n",
    "                prediction_real = d(x_real)\n",
    "                n = prediction_real.size(0) #get batch size\n",
    "                d_loss_real = d_loss_fun(prediction_real, make_ones(n))\n",
    "                d_loss_real.backward()\n",
    "\n",
    "                #train discriminator to recognize fake images\n",
    "                prediction_fake = d(x_fake)\n",
    "                n = prediction_fake.size(0) #get batch size\n",
    "                d_loss_fake = d_loss_fun(prediction_fake, make_zeros(n)) #for V.GAN & LSGAN\n",
    "                #d_loss_fake = d_loss_fun(prediction_fake, make_filled(n, 0.0))\n",
    "            \n",
    "                d_loss_fake.backward()\n",
    "        \n",
    "                #update weights\n",
    "                optimizer.step()\n",
    "                loss += d_loss_real.detach().cpu().numpy() + d_loss_fake.detach().cpu().numpy()\n",
    "            return loss\n",
    "\n",
    "        def train_generator(optimizer, x_fake):\n",
    "            g.zero_grad() #reset gradients\n",
    "        \n",
    "            #train generator to fool discriminator\n",
    "            prediction = d(x_fake)\n",
    "            n = prediction.size(0) #get batch size\n",
    "            g_loss = d_loss_fun(prediction, make_ones(n))\n",
    "            g_loss.backward()\n",
    "        \n",
    "            #update weights\n",
    "            optimizer.step()\n",
    "            return g_loss.detach().cpu().numpy()\n",
    "        \n",
    "        #====================\n",
    "        # Update discriminator\n",
    "        #====================\n",
    "        #make real and fake image\n",
    "        x_real = x.to(device) * 2 -1 #scale to (-1, 1) range\n",
    "        x_fake = g(make_noise(batch_size, g.input_size))\n",
    "        \n",
    "        #remember to detach x_fake before using it to compute the discriminator loss\n",
    "        #otherwise the discriminator loss will backpropagate through the generator as well, which is unnecessary.\n",
    "        x_fake = x_fake.detach()\n",
    "        \n",
    "        d_losses.append(train_discriminator(d_opt, x_real, x_fake))\n",
    "        d_loss += d_losses[-1]\n",
    "        \n",
    "        #========================\n",
    "        # Update generator\n",
    "        #========================\n",
    "        #feed random noise to generator\n",
    "        x_fake = g(make_noise(batch_size, g.input_size))\n",
    "        g_losses.append(train_generator(g_opt, x_fake))\n",
    "        g_loss += d_losses[-1]\n",
    "        \n",
    "        assert(not np.isnan(d_loss))\n",
    "        #Plot results every 100 minibatches\n",
    "        if minibatch_no % 100 == 0:\n",
    "            with torch.no_grad():\n",
    "                x_fake = g(make_noise(batch_size, g.input_size)).detach()\n",
    "                P = d(x_fake)\n",
    "                for k in range(11):\n",
    "                    x_fake_k = x_fake[k].cpu().squeeze()/2+.5\n",
    "                    subplots[k].imshow(x_fake_k, cmap='gray')\n",
    "                    subplots[k].set_title('d(x)=%.2f' % P[k])\n",
    "                    subplots[k].axis('off')\n",
    "                z = torch.randn(batch_size, 100).to(device)\n",
    "                H1 = d(g(z)).cpu()\n",
    "                H2 = d(x_real).cpu()\n",
    "                plot_min = min(H1.min(), H2.min()).item()\n",
    "                plot_max = max(H1.max(), H2.max()).item()\n",
    "                #subplots[-1].cla()\n",
    "                subplots[-1].plot(np.arange(len(g_losses)), g_losses)\n",
    "                subplots[-1].plot(np.arange(len(d_losses)), d_losses)\n",
    "                #subplots[-1].set_xlabel('Probability of being real')\n",
    "                subplots[-1].set_title('Discriminator and generator training loss')\n",
    "                \n",
    "                title = 'Epoch {e} - minibatch {n}/{d}'.format(e=epoch+1, n=minibatch_no, d=len(train_loader))\n",
    "                plt.gcf().suptitle(title, fontsize=20)\n",
    "                display.display(plt.gcf())\n",
    "                print('Epoch {}: g_loss: {:.8f} d_loss: {:.8f}\\r'.format(epoch, g_loss/max(1, minibatch_no), d_loss/max(1, minibatch_no)))\n",
    "                display.clear_output(wait=True)\n",
    "                "
   ]
  },
  {
   "cell_type": "code",
   "execution_count": 12,
   "metadata": {},
   "outputs": [
    {
     "data": {
      "image/png": "[encoded data removed]",
      "text/plain": [
       "<Figure size 432x288 with 1 Axes>"
      ]
     },
     "metadata": {
      "needs_background": "light"
     },
     "output_type": "display_data"
    }
   ],
   "source": [
    "g.load_state_dict(torch.load(\"generator.pt\"))\n",
    "g.eval()\n",
    "target_image = g(make_noise(1, g.input_size)).detach()\n",
    "target_image = target_image[0].cpu().squeeze() / 2 + 0.5\n",
    "plt.imshow(target_image, cmap='gray')\n",
    "\n",
    "\n",
    "x_fake = g(make_noise(1, g.input_size)).detach()"
   ]
  },
  {
   "cell_type": "code",
   "execution_count": 1,
   "metadata": {},
   "outputs": [
    {
     "ename": "NameError",
     "evalue": "name 'np' is not defined",
     "output_type": "error",
     "traceback": [
      "\u001b[0;31m---------------------------------------------------------------------------\u001b[0m",
      "\u001b[0;31mNameError\u001b[0m                                 Traceback (most recent call last)",
      "\u001b[0;32m<ipython-input-1-721d74732378>\u001b[0m in \u001b[0;36m<module>\u001b[0;34m()\u001b[0m\n\u001b[1;32m     29\u001b[0m     \u001b[0;32mreturn\u001b[0m \u001b[0masarray\u001b[0m\u001b[0;34m(\u001b[0m\u001b[0mvectors\u001b[0m\u001b[0;34m)\u001b[0m\u001b[0;34m\u001b[0m\u001b[0;34m\u001b[0m\u001b[0m\n\u001b[1;32m     30\u001b[0m \u001b[0;34m\u001b[0m\u001b[0m\n\u001b[0;32m---> 31\u001b[0;31m \u001b[0mprint\u001b[0m\u001b[0;34m(\u001b[0m\u001b[0minterpolate_linear_points\u001b[0m\u001b[0;34m(\u001b[0m\u001b[0;34m[\u001b[0m\u001b[0;36m0\u001b[0m\u001b[0;34m,\u001b[0m \u001b[0;36m1\u001b[0m\u001b[0;34m,\u001b[0m \u001b[0;36m0\u001b[0m\u001b[0;34m]\u001b[0m\u001b[0;34m,\u001b[0m \u001b[0;34m[\u001b[0m\u001b[0;36m1\u001b[0m\u001b[0;34m,\u001b[0m \u001b[0;36m0\u001b[0m\u001b[0;34m,\u001b[0m \u001b[0;36m1\u001b[0m\u001b[0;34m]\u001b[0m\u001b[0;34m)\u001b[0m\u001b[0;34m)\u001b[0m\u001b[0;34m\u001b[0m\u001b[0;34m\u001b[0m\u001b[0m\n\u001b[0m",
      "\u001b[0;32m<ipython-input-1-721d74732378>\u001b[0m in \u001b[0;36minterpolate_linear_points\u001b[0;34m(p1, p2, n_steps)\u001b[0m\n\u001b[1;32m      1\u001b[0m \u001b[0;32mdef\u001b[0m \u001b[0minterpolate_linear_points\u001b[0m\u001b[0;34m(\u001b[0m\u001b[0mp1\u001b[0m\u001b[0;34m,\u001b[0m \u001b[0mp2\u001b[0m\u001b[0;34m,\u001b[0m \u001b[0mn_steps\u001b[0m\u001b[0;34m=\u001b[0m\u001b[0;36m10\u001b[0m\u001b[0;34m)\u001b[0m\u001b[0;34m:\u001b[0m\u001b[0;34m\u001b[0m\u001b[0;34m\u001b[0m\u001b[0m\n\u001b[1;32m      2\u001b[0m     \u001b[0;31m# interpolate ratios between the points\u001b[0m\u001b[0;34m\u001b[0m\u001b[0;34m\u001b[0m\u001b[0;34m\u001b[0m\u001b[0m\n\u001b[0;32m----> 3\u001b[0;31m     \u001b[0mratios\u001b[0m \u001b[0;34m=\u001b[0m \u001b[0mnp\u001b[0m\u001b[0;34m.\u001b[0m\u001b[0mlinspace\u001b[0m\u001b[0;34m(\u001b[0m\u001b[0;36m0\u001b[0m\u001b[0;34m,\u001b[0m \u001b[0;36m1\u001b[0m\u001b[0;34m,\u001b[0m \u001b[0mnum\u001b[0m\u001b[0;34m=\u001b[0m\u001b[0mn_steps\u001b[0m\u001b[0;34m)\u001b[0m\u001b[0;34m\u001b[0m\u001b[0;34m\u001b[0m\u001b[0m\n\u001b[0m\u001b[1;32m      4\u001b[0m     \u001b[0;31m# linear interpolate vectors\u001b[0m\u001b[0;34m\u001b[0m\u001b[0;34m\u001b[0m\u001b[0;34m\u001b[0m\u001b[0m\n\u001b[1;32m      5\u001b[0m     \u001b[0mvectors\u001b[0m \u001b[0;34m=\u001b[0m \u001b[0mlist\u001b[0m\u001b[0;34m(\u001b[0m\u001b[0;34m)\u001b[0m\u001b[0;34m\u001b[0m\u001b[0;34m\u001b[0m\u001b[0m\n",
      "\u001b[0;31mNameError\u001b[0m: name 'np' is not defined"
     ]
    }
   ],
   "source": [
    "def interpolate_linear_points(p1, p2, n_steps=10):\n",
    "    # interpolate ratios between the points\n",
    "    ratios = np.linspace(0, 1, num=n_steps)\n",
    "    # linear interpolate vectors\n",
    "    vectors = list()\n",
    "    for ratio in ratios:\n",
    "        v = (1.0 - ratio) * p1 + ratio * p2\n",
    "    vectors.append(v)\n",
    "    return asarray(vectors)\n",
    "\n",
    "# spherical linear interpolation (slerp)\n",
    "def slerp(val, low, high):\n",
    "    omega = arccos(clip(dot(low/norm(low), high/norm(high)), -1, 1))\n",
    "    so = sin(omega)\n",
    "    if so == 0:\n",
    "        # L'Hopital's rule/LERP\n",
    "        return (1.0-val) * low + val * high\n",
    "    return sin((1.0-val)*omega) / so * low + sin(val*omega) / so * high\n",
    " \n",
    "# uniform interpolation between two points in latent space\n",
    "def interpolate_spherical_points(p1, p2, n_steps=10):\n",
    "    # interpolate ratios between the points\n",
    "    ratios = np.linspace(0, 1, num=n_steps)\n",
    "    # linear interpolate vectors\n",
    "    vectors = list()\n",
    "    for ratio in ratios:\n",
    "        v = slerp(ratio, p1, p2)\n",
    "        vectors.append(v)\n",
    "    return asarray(vectors)\n",
    "\n",
    "print(interpolate_linear_points([0, 1, 0], [1, 0, 1]))"
   ]
  },
  {
   "cell_type": "markdown",
   "metadata": {},
   "source": [
    "## WGAN\n",
    "The differences in implementation for the WGAN are as follows:\n",
    "1. Use a linear activation function in the output layer of the critic model (instead of sigmoid).\n",
    "2. Use -1 labels for real images and 1 labels for fake images (instead of 1 and 0).\n",
    "3. Use Wasserstein loss to train the critic and generator models.\n",
    "4. Constrain critic model weights to a limited range after each mini batch update (e.g. [-0.01,0.01]).\n",
    "5. Update the critic model more times than the generator each iteration (e.g. 5).\n",
    "6. Use the RMSProp version of gradient descent with a small learning rate and no momentum (e.g. 0.00005).\n"
   ]
  }
 ],
 "metadata": {
  "accelerator": "GPU",
  "colab": {
   "collapsed_sections": [],
   "name": "Exercise_3.ipynb",
   "provenance": []
  },
  "kernelspec": {
   "display_name": "Python 3",
   "language": "python",
   "name": "python3"
  },
  "language_info": {
   "codemirror_mode": {
    "name": "ipython",
    "version": 3
   },
   "file_extension": ".py",
   "mimetype": "text/x-python",
   "name": "python",
   "nbconvert_exporter": "python",
   "pygments_lexer": "ipython3",
   "version": "3.6.8"
  }
 },
 "nbformat": 4,
 "nbformat_minor": 1
}
