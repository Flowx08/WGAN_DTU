{
  "cells": [
    {
      "cell_type": "markdown",
      "metadata": {
        "id": "XPPysUMOZxgz"
      },
      "source": [
        "## Generative adversarial networks\n",
        "### Generating of MNIST digits with a GAN"
      ]
    },
    {
      "cell_type": "markdown",
      "metadata": {
        "id": "MWaSbs51Z5lN"
      },
      "source": [
        "Setting up"
      ]
    },
    {
      "cell_type": "code",
      "execution_count": 80,
      "metadata": {
        "colab": {
          "base_uri": "https://localhost:8080/"
        },
        "id": "cV8YxhB6Z5lN",
        "outputId": "496666fa-2eae-4a1c-aa9c-c4afe585abe1"
      },
      "outputs": [
        {
          "output_type": "stream",
          "name": "stdout",
          "text": [
            "Looking in indexes: https://pypi.org/simple, https://us-python.pkg.dev/colab-wheels/public/simple/\n",
            "Requirement already satisfied: tqdm in /usr/local/lib/python3.7/dist-packages (4.64.1)\n",
            "Looking in indexes: https://pypi.org/simple, https://us-python.pkg.dev/colab-wheels/public/simple/\n",
            "Requirement already satisfied: torchsummary in /usr/local/lib/python3.7/dist-packages (1.5.1)\n",
            "Looking in indexes: https://pypi.org/simple, https://us-python.pkg.dev/colab-wheels/public/simple/\n",
            "Requirement already satisfied: pytorch-fid in /usr/local/lib/python3.7/dist-packages (0.2.1)\n",
            "Requirement already satisfied: torch>=1.0.1 in /usr/local/lib/python3.7/dist-packages (from pytorch-fid) (1.12.1+cu113)\n",
            "Requirement already satisfied: numpy in /usr/local/lib/python3.7/dist-packages (from pytorch-fid) (1.21.6)\n",
            "Requirement already satisfied: scipy in /usr/local/lib/python3.7/dist-packages (from pytorch-fid) (1.7.3)\n",
            "Requirement already satisfied: pillow in /usr/local/lib/python3.7/dist-packages (from pytorch-fid) (7.1.2)\n",
            "Requirement already satisfied: torchvision>=0.2.2 in /usr/local/lib/python3.7/dist-packages (from pytorch-fid) (0.13.1+cu113)\n",
            "Requirement already satisfied: typing-extensions in /usr/local/lib/python3.7/dist-packages (from torch>=1.0.1->pytorch-fid) (4.1.1)\n",
            "Requirement already satisfied: requests in /usr/local/lib/python3.7/dist-packages (from torchvision>=0.2.2->pytorch-fid) (2.23.0)\n",
            "Requirement already satisfied: urllib3!=1.25.0,!=1.25.1,<1.26,>=1.21.1 in /usr/local/lib/python3.7/dist-packages (from requests->torchvision>=0.2.2->pytorch-fid) (1.24.3)\n",
            "Requirement already satisfied: idna<3,>=2.5 in /usr/local/lib/python3.7/dist-packages (from requests->torchvision>=0.2.2->pytorch-fid) (2.10)\n",
            "Requirement already satisfied: chardet<4,>=3.0.2 in /usr/local/lib/python3.7/dist-packages (from requests->torchvision>=0.2.2->pytorch-fid) (3.0.4)\n",
            "Requirement already satisfied: certifi>=2017.4.17 in /usr/local/lib/python3.7/dist-packages (from requests->torchvision>=0.2.2->pytorch-fid) (2022.9.24)\n"
          ]
        }
      ],
      "source": [
        "!pip3 install tqdm\n",
        "!pip3 install torchsummary\n",
        "!pip3 install pytorch-fid"
      ]
    },
    {
      "cell_type": "code",
      "execution_count": 81,
      "metadata": {
        "id": "TlFFUmfoZxg1"
      },
      "outputs": [],
      "source": [
        "import numpy as np\n",
        "from tqdm.notebook import tqdm\n",
        "import torch\n",
        "import torch.nn as nn\n",
        "import torch.nn.functional as F\n",
        "import torchvision.datasets as datasets\n",
        "from torchsummary import summary\n",
        "from torch.autograd.variable import Variable\n",
        "from torch.utils.data import DataLoader\n",
        "from torch.autograd import grad as torch_grad\n",
        "import torchvision.transforms as transforms\n",
        "from IPython import display\n",
        "import matplotlib.pylab as plt\n",
        "import ipywidgets\n",
        "from torchvision.utils import save_image\n",
        "import os\n",
        "import glob\n",
        "import subprocess\n",
        "import re\n",
        "import time"
      ]
    },
    {
      "cell_type": "markdown",
      "metadata": {
        "id": "UKTYJngTuOtG"
      },
      "source": [
        "Check that we're running on GPU, and initialize our device"
      ]
    },
    {
      "cell_type": "code",
      "execution_count": 82,
      "metadata": {
        "id": "RLcplSTKZxg4",
        "colab": {
          "base_uri": "https://localhost:8080/"
        },
        "outputId": "8c46ef8c-3cf4-417b-8f00-326038ae649a"
      },
      "outputs": [
        {
          "output_type": "stream",
          "name": "stdout",
          "text": [
            "The code will run on CPU. Go to Edit->Notebook Settings and choose GPU as the hardware accelerator\n"
          ]
        }
      ],
      "source": [
        "if torch.cuda.is_available():\n",
        "    print(\"The code will run on GPU.\")\n",
        "    device = torch.device('cuda')\n",
        "elif torch.backends.mps.is_available():\n",
        "    print(\"The code will run on GPU for MacOS devices with Metal programming framework.\")\n",
        "    device = torch.device('mps')\n",
        "else:\n",
        "    print(\"The code will run on CPU. Go to Edit->Notebook Settings and choose GPU as the hardware accelerator\")\n",
        "    device = torch.device('cpu')"
      ]
    },
    {
      "cell_type": "markdown",
      "metadata": {
        "id": "lV2YzpnSuUwt"
      },
      "source": [
        "Setup our MNIST dataloaders"
      ]
    },
    {
      "cell_type": "code",
      "execution_count": 83,
      "metadata": {
        "id": "hSXlDTz0Zxg7"
      },
      "outputs": [],
      "source": [
        "batch_size = 64               # Batch size\n",
        "nz = 100                      # Size of the input noise vector\n",
        "ngf = 32                     # Scale number of conv filters in generator\n",
        "ndf = 32                      # Scale number of conv filters in discriminator\n",
        "nc = 3                        # Number of channels in the output image (RGB or black and white ecc)\n",
        "model_input_size = 32         # Used to determine which model to use, options: (28, 32)\n",
        "datasetName = \"CIFAR10\"       # Either MNIST, FashionMNIST or CIFAR10\n",
        "useLSGAN = False              # If enabled uses least squared criterion instead of binary cross entropy (only if useWGAN=False)\n",
        "useWGAN = True                # If true make the GAN a WGAN\n",
        "weights_clip_value = 0.01     # When using WGAN clip weights of discriminator in range (-clip, +clip)\n",
        "useWeightClipping = False\n",
        "useGradientPenality = True    "
      ]
    },
    {
      "cell_type": "code",
      "execution_count": 84,
      "metadata": {
        "id": "4VT-RsQ0Z5lQ",
        "colab": {
          "base_uri": "https://localhost:8080/",
          "height": 71
        },
        "outputId": "7b1b0772-114a-4500-c089-d563dab23af0"
      },
      "outputs": [
        {
          "output_type": "stream",
          "name": "stdout",
          "text": [
            "Files already downloaded and verified\n",
            "Files already downloaded and verified\n"
          ]
        },
        {
          "output_type": "execute_result",
          "data": {
            "text/plain": [
              "'\\n\\n'"
            ],
            "application/vnd.google.colaboratory.intrinsic+json": {
              "type": "string"
            }
          },
          "metadata": {},
          "execution_count": 84
        }
      ],
      "source": [
        "# MNIST dataset\n",
        "if datasetName == \"MNIST\":\n",
        "  trainset = datasets.MNIST('./data', train=True, download=True, transform=transforms.Compose([\n",
        "                           transforms.Resize(28),\n",
        "                           transforms.ToTensor(),\n",
        "                           transforms.Normalize((0.5,), (0.5,)),\n",
        "                       ]))\n",
        "  train_loader = DataLoader(trainset, batch_size=batch_size, shuffle=True)\n",
        "  testset = datasets.MNIST('./data', train=False, download=True, transform=transforms.Compose([\n",
        "                           transforms.Resize(28),\n",
        "                           transforms.ToTensor(),\n",
        "                           transforms.Normalize((0.5,), (0.5,)),\n",
        "                       ]))\n",
        "  test_loader = DataLoader(testset, batch_size=batch_size, shuffle=False)\n",
        "elif datasetName == \"FashionMNIST\":\n",
        "  trainset = datasets.FashionMNIST('./data', train=True, download=True, transform=transforms.Compose([\n",
        "                           transforms.Resize(28),\n",
        "                           transforms.ToTensor(),\n",
        "                           transforms.Normalize((0.5,), (0.5,)),\n",
        "                       ]))\n",
        "  train_loader = DataLoader(trainset, batch_size=batch_size, shuffle=True)\n",
        "  testset = datasets.FashionMNIST('./data', train=False, download=True, transform=transforms.Compose([\n",
        "                           transforms.Resize(28),\n",
        "                           transforms.ToTensor(),\n",
        "                           transforms.Normalize((0.5,), (0.5,)),\n",
        "                       ]))\n",
        "  test_loader = DataLoader(testset, batch_size=batch_size, shuffle=False)\n",
        "elif datasetName == \"CIFAR10\":\n",
        "  trainset = datasets.CIFAR10('./data', train=True, download=True, transform=transforms.Compose([\n",
        "                           transforms.Resize(32),\n",
        "                           transforms.ToTensor(),\n",
        "                           transforms.Normalize((0.5,0.5,0.5), (0.5,0.5,0.5)),\n",
        "                       ]))\n",
        "  train_loader = DataLoader(trainset, batch_size=batch_size, shuffle=True)\n",
        "  testset = datasets.CIFAR10('./data', train=False, download=True, transform=transforms.Compose([\n",
        "                           transforms.Resize(32),\n",
        "                           transforms.ToTensor(),\n",
        "                           transforms.Normalize((0.5,), (0.5,)),\n",
        "                       ]))\n",
        "  test_loader = DataLoader(testset, batch_size=batch_size, shuffle=False)\n",
        "\n",
        "# Fashion MNIST dataset\n",
        "\"\"\"\n",
        "\n",
        "\"\"\""
      ]
    },
    {
      "cell_type": "markdown",
      "metadata": {
        "id": "M7n3gtt6Z5lR"
      },
      "source": [
        "## DCGAN"
      ]
    },
    {
      "cell_type": "markdown",
      "metadata": {
        "id": "dhxprWbiZxg-"
      },
      "source": [
        "Implement **generator** network."
      ]
    },
    {
      "cell_type": "code",
      "execution_count": 85,
      "metadata": {
        "id": "5N31KfHDYwjn"
      },
      "outputs": [],
      "source": [
        "# custom weights initialization called on netG and netD\n",
        "def weights_init(m):\n",
        "    classname = m.__class__.__name__\n",
        "    if classname.find('Conv') != -1:\n",
        "        nn.init.normal_(m.weight.data, 0.0, 0.02)\n",
        "    elif classname.find('BatchNorm') != -1:\n",
        "        nn.init.normal_(m.weight.data, 1.0, 0.02)\n",
        "        nn.init.constant_(m.bias.data, 0)"
      ]
    },
    {
      "cell_type": "code",
      "execution_count": 86,
      "metadata": {
        "id": "aHYx5QejZxg_"
      },
      "outputs": [],
      "source": [
        "class Generator(nn.Module):\n",
        "    def __init__(self, input_size):\n",
        "        super(Generator, self).__init__()\n",
        "        self.input_size = input_size\n",
        "        \n",
        "        self.reshapeModule = nn.Linear(nz, ngf * 8 * 4 * 4)\n",
        "\n",
        "        self.dcmodel = 0\n",
        "        if (model_input_size == 28):\n",
        "          self.dcmodel = nn.Sequential(\n",
        "            # input is Z, going into a convolution\n",
        "            nn.ConvTranspose2d(     nz, ngf * 8, 1, 1, 0, bias=False),\n",
        "            nn.BatchNorm2d(ngf * 8),\n",
        "            nn.ReLU(True),\n",
        "            # state size. (ngf*8) x 4 x 4\n",
        "            nn.ConvTranspose2d(ngf * 8, ngf * 4, 4, 2, 1, bias=False),\n",
        "            nn.BatchNorm2d(ngf * 4),\n",
        "            nn.ReLU(True),\n",
        "            # state size. (ngf*4) x 8 x 8\n",
        "            nn.ConvTranspose2d(ngf * 4, ngf * 2, 4, 2, 1, bias=False),\n",
        "            nn.BatchNorm2d(ngf * 2),\n",
        "            nn.ReLU(True),\n",
        "            # state size. (ngf*2) x 16 x 16\n",
        "            nn.ConvTranspose2d(ngf * 2,     ngf, 4, 2, 1, bias=False),\n",
        "            nn.BatchNorm2d(ngf),\n",
        "            nn.ReLU(True),\n",
        "\n",
        "            nn.ConvTranspose2d(    ngf,      nc, kernel_size=1, stride=1, padding=2, bias=False),\n",
        "            nn.Tanh()\n",
        "          )\n",
        "        elif (model_input_size == 32):\n",
        "          self.dcmodel = nn.Sequential(\n",
        "            # input is Z, going into a convolution\n",
        "            nn.ConvTranspose2d( ngf * 8, ngf * 8, 4, 2, 1, bias=False),\n",
        "            nn.BatchNorm2d(ngf * 8),\n",
        "            nn.ReLU(True),\n",
        "            # state size. (ngf*8) x 4 x 4\n",
        "            nn.ConvTranspose2d(ngf * 8, ngf * 4, 4, 2, 1, bias=False),\n",
        "            nn.BatchNorm2d(ngf * 4),\n",
        "            nn.ReLU(True),\n",
        "            # state size. (ngf*4) x 8 x 8\n",
        "            nn.ConvTranspose2d( ngf * 4, ngf * 2, 4, 2, 1, bias=False),\n",
        "            nn.BatchNorm2d(ngf * 2),\n",
        "            nn.ReLU(True),\n",
        "            # state size. (ngf*2) x 16 x 16\n",
        "            nn.Conv2d( ngf * 2, nc, 3, 1, 1, bias=False),\n",
        "            nn.Tanh()\n",
        "            # state size. (nc) x 32 x 32\n",
        "          )\n",
        "\n",
        "\n",
        "    def forward(self, x):\n",
        "        # FEEDFOREWARD MODEL\n",
        "        #x = x.view(x.size(0), -1)\n",
        "        #x = self.fullyconnected(x)\n",
        "        #x = x.view(x.size(0), 1, 28, 28)\n",
        "\n",
        "        # CONVOLUTIONAL MODEL\n",
        "        x = x.view(x.size(0), -1)\n",
        "        x = self.reshapeModule(x)\n",
        "        x = x.view(x.size(0), ngf * 8, 4, 4)\n",
        "        x = self.dcmodel(x)\n",
        "        return x"
      ]
    },
    {
      "cell_type": "markdown",
      "metadata": {
        "id": "tGcxpGzQZxhD"
      },
      "source": [
        "Implement **discriminator** network."
      ]
    },
    {
      "cell_type": "code",
      "execution_count": 87,
      "metadata": {
        "id": "e7GEvrDvZxhD"
      },
      "outputs": [],
      "source": [
        "class Discriminator(nn.Module):\n",
        "    def __init__(self):\n",
        "        super(Discriminator, self).__init__()\n",
        "\n",
        "        self.outputDense = nn.Linear(ndf * 8 * 4 * 4, 1)\n",
        "        self.dcmodel = 0\n",
        "        if (model_input_size == 28):\n",
        "          self.dcmodel = nn.Sequential(\n",
        "            # input is (nc) x 64 x 64\n",
        "            nn.Conv2d(nc, ndf, 4, 2, 1, bias=False),\n",
        "            nn.LeakyReLU(0.2, inplace=True),\n",
        "            # state size. (ndf) x 32 x 32\n",
        "            nn.Conv2d(ndf, ndf * 2, 4, 2, 1, bias=False),\n",
        "            nn.BatchNorm2d(ndf * 2),\n",
        "            nn.LeakyReLU(0.2, inplace=True),\n",
        "            # state size. (ndf*2) x 16 x 16\n",
        "            nn.Conv2d(ndf * 2, ndf * 4, 4, 2, 1, bias=False),\n",
        "            nn.BatchNorm2d(ndf * 4),\n",
        "            nn.LeakyReLU(0.2, inplace=True),\n",
        "            # state size. (ndf*4) x 8 x 8\n",
        "            nn.Conv2d(ndf * 4, 1, 3, 1, 0, bias=False),\n",
        "          )\n",
        "        elif (model_input_size == 32):\n",
        "          self.dcmodel = nn.Sequential(\n",
        "            nn.Conv2d(nc, ndf * 2, 3, 1, 1, bias=False),\n",
        "            nn.LeakyReLU(0.2, inplace=True),\n",
        "            # state size. (nc) x 32 x 32\n",
        "            nn.Conv2d(ndf * 2, ndf * 4, 4, 2, 1, bias=False),\n",
        "            nn.LayerNorm([ndf * 4, 16, 16]),\n",
        "            nn.LeakyReLU(0.2, inplace=True),\n",
        "            # state size. (ndf*2) x 16 x 16\n",
        "            nn.Conv2d(ndf * 4, ndf * 4, 4, 2, 1, bias=False),\n",
        "            nn.LayerNorm([ndf * 4, 8, 8]),\n",
        "            nn.LeakyReLU(0.2, inplace=True),\n",
        "            # state size. (ndf*4) x 8 x 8\n",
        "            nn.Conv2d(ndf * 4, ndf * 8, 4, 2, 1, bias=False),\n",
        "            #nn.BatchNorm2d(ndf * 8),\n",
        "            nn.LeakyReLU(0.2, inplace=True),\n",
        "            # state size. (ndf*8) x 4 x 4\n",
        "        )\n",
        "    \n",
        "    def forward(self, x):\n",
        "        # FEEDFOREWARD MODEL\n",
        "        #x = x.view(x.size(0), -1)\n",
        "        #x = self.fulluconnected(x)\n",
        "\n",
        "        # CONVOLUTIONAL MODEL\n",
        "        x = self.dcmodel(x)\n",
        "        x = x.view(x.size(0), -1)\n",
        "        x = self.outputDense(x)\n",
        "        if (not useWGAN and not useLSGAN):\n",
        "          x = torch.sigmoid(x)\n",
        "        x = x.view(x.size(0), 1)        \n",
        "        return x"
      ]
    },
    {
      "cell_type": "code",
      "execution_count": 88,
      "metadata": {
        "id": "3ZEyJf434bY4"
      },
      "outputs": [],
      "source": [
        "def gradient_penalty(d, real_data, generated_data):\n",
        "    if (device == 'cuda'):\n",
        "      use_cuda = True\n",
        "    else:\n",
        "      use_cuda = False\n",
        "    gp_weight = 10\n",
        "    batch_size = real_data.size()[0]\n",
        "\n",
        "    # Calculate interpolation\n",
        "    alpha = torch.rand(batch_size, 1, 1, 1)\n",
        "    alpha = alpha.expand_as(real_data)\n",
        "    if use_cuda:\n",
        "      alpha = alpha.cuda()\n",
        "    interpolated = alpha * real_data.data + (1 - alpha) * generated_data.data\n",
        "    interpolated = Variable(interpolated, requires_grad=True)\n",
        "    if use_cuda:\n",
        "      interpolated = interpolated.cuda()\n",
        "\n",
        "    # Calculate probability of interpolated examples\n",
        "    prob_interpolated = d(interpolated)\n",
        "\n",
        "    # Calculate gradients of probabilities with respect to examples\n",
        "    gradients = torch_grad(outputs=prob_interpolated, inputs=interpolated,\n",
        "                               grad_outputs=torch.ones(prob_interpolated.size()).cuda() if use_cuda else torch.ones(\n",
        "                               prob_interpolated.size()),\n",
        "                               create_graph=True, retain_graph=True)[0]\n",
        "\n",
        "    # Gradients have shape (batch_size, num_channels, img_width, img_height),\n",
        "    # so flatten to easily take norm per example in batch\n",
        "    gradients = gradients.view(batch_size, -1)\n",
        "\n",
        "    # Derivatives of the gradient close to 0 can cause problems because of\n",
        "    # the square root, so manually calculate norm and add epsilon\n",
        "    gradients_norm = torch.sqrt(torch.sum(gradients ** 2, dim=1) + 1e-12)\n",
        "\n",
        "    # Return gradient penalty\n",
        "    return gp_weight * ((gradients_norm - 1) ** 2).mean()"
      ]
    },
    {
      "cell_type": "markdown",
      "source": [
        "FID function based on inception V3"
      ],
      "metadata": {
        "id": "UEwYmocXMjE6"
      }
    },
    {
      "cell_type": "code",
      "execution_count": 89,
      "metadata": {
        "id": "2KF-Yqw-Z5lV"
      },
      "outputs": [],
      "source": [
        "def compute_fid(model, distribution_size=20, use_cuda=True):\n",
        "  model.eval()\n",
        "\n",
        "  # Create folders if not existing\n",
        "  if (not os.path.exists(\"dataset_real\")):\n",
        "    os.mkdir(\"./dataset_real\")\n",
        "  if (not os.path.exists(\"dataset_fake\")):\n",
        "    os.mkdir(\"./dataset_fake\")\n",
        "\n",
        "  # Empty the folders\n",
        "  files = glob.glob('dataset_real/*')\n",
        "  for f in files:\n",
        "    os.remove(f)\n",
        "  files = glob.glob('dataset_fake/*')\n",
        "  for f in files:\n",
        "    os.remove(f)\n",
        "\n",
        "  # Get images from dataset\n",
        "  image, target = next(iter(train_loader))\n",
        "  for i in range(distribution_size):\n",
        "      # Save real\n",
        "      x_changed = image[i].cpu().squeeze() / 2.0 + 0.5\n",
        "      save_image(x_changed, \"dataset_real/real_{}.png\".format(i))\n",
        "\n",
        "      # Save fake\n",
        "      target_image = model(make_noise(1, model.input_size)).detach()\n",
        "      target_image = target_image[0].cpu().squeeze() / 2 + 0.5\n",
        "      #target_image = torch.randn(3, 32, 32)\n",
        "      save_image(target_image, \"dataset_fake/fake_{}.png\".format(i))\n",
        "    \n",
        "  # run FID script\n",
        "  if (use_cuda):\n",
        "    params = ['python3', '-m', 'pytorch_fid', '--device', 'cuda:0', './dataset_fake/', './dataset_real/']\n",
        "  else:\n",
        "    params = ['python3', '-m', 'pytorch_fid', './dataset_fake/', './dataset_real/']\n",
        "  result = subprocess.run(params, stdout=subprocess.PIPE)\n",
        "  \n",
        "  # Get last line of output and extract float value\n",
        "  fidValue = float(re.findall(\"\\d+\\.\\d+\", str(result.stdout.splitlines()[-1]))[0])\n",
        "  return fidValue"
      ]
    },
    {
      "cell_type": "markdown",
      "metadata": {
        "id": "jWDuWiwP-pj6"
      },
      "source": [
        "Utility functions that are handy"
      ]
    },
    {
      "cell_type": "code",
      "execution_count": 90,
      "metadata": {
        "id": "iI6i8YWqZ5lT"
      },
      "outputs": [],
      "source": [
        "def make_ones(size):\n",
        "    data = Variable(torch.ones(size, 1))\n",
        "    return data.to(device)\n",
        "\n",
        "def make_filled(size, value):\n",
        "    data = Variable(torch.full(size, value))\n",
        "    return data.to(device)\n",
        "\n",
        "def make_zeros(size):\n",
        "    data = Variable(torch.zeros(size, 1))\n",
        "    return data.to(device)\n",
        "\n",
        "#def make_noise(batch_size, size):\n",
        "#    return torch.randn(batch_size, size).to(device)\n",
        "\n",
        "def make_noise(batch_size, size):\n",
        "    return torch.randn(batch_size, size, 1, 1).to(device)\n",
        "    "
      ]
    },
    {
      "cell_type": "markdown",
      "source": [
        "Create generator and discriminator "
      ],
      "metadata": {
        "id": "l14H49bUfLg8"
      }
    },
    {
      "cell_type": "code",
      "source": [
        "d = Discriminator().to(device)\n",
        "d.apply(weights_init)\n",
        "summary(d, (nc, model_input_size, model_input_size))\n",
        "g = Generator(nz).to(device)\n",
        "g.apply(weights_init)\n",
        "summary(g, (nz, 1, 1))"
      ],
      "metadata": {
        "id": "2QsfeEOFfJsy",
        "colab": {
          "base_uri": "https://localhost:8080/"
        },
        "outputId": "896c8cb4-8a21-4e02-b6af-9afc1a587fa8"
      },
      "execution_count": 91,
      "outputs": [
        {
          "output_type": "stream",
          "name": "stdout",
          "text": [
            "----------------------------------------------------------------\n",
            "        Layer (type)               Output Shape         Param #\n",
            "================================================================\n",
            "            Conv2d-1           [-1, 64, 32, 32]           1,728\n",
            "         LeakyReLU-2           [-1, 64, 32, 32]               0\n",
            "            Conv2d-3          [-1, 128, 16, 16]         131,072\n",
            "         LayerNorm-4          [-1, 128, 16, 16]          65,536\n",
            "         LeakyReLU-5          [-1, 128, 16, 16]               0\n",
            "            Conv2d-6            [-1, 128, 8, 8]         262,144\n",
            "         LayerNorm-7            [-1, 128, 8, 8]          16,384\n",
            "         LeakyReLU-8            [-1, 128, 8, 8]               0\n",
            "            Conv2d-9            [-1, 256, 4, 4]         524,288\n",
            "        LeakyReLU-10            [-1, 256, 4, 4]               0\n",
            "           Linear-11                    [-1, 1]           4,097\n",
            "================================================================\n",
            "Total params: 1,005,249\n",
            "Trainable params: 1,005,249\n",
            "Non-trainable params: 0\n",
            "----------------------------------------------------------------\n",
            "Input size (MB): 0.01\n",
            "Forward/backward pass size (MB): 2.00\n",
            "Params size (MB): 3.83\n",
            "Estimated Total Size (MB): 5.85\n",
            "----------------------------------------------------------------\n",
            "----------------------------------------------------------------\n",
            "        Layer (type)               Output Shape         Param #\n",
            "================================================================\n",
            "            Linear-1                 [-1, 4096]         413,696\n",
            "   ConvTranspose2d-2            [-1, 256, 8, 8]       1,048,576\n",
            "       BatchNorm2d-3            [-1, 256, 8, 8]             512\n",
            "              ReLU-4            [-1, 256, 8, 8]               0\n",
            "   ConvTranspose2d-5          [-1, 128, 16, 16]         524,288\n",
            "       BatchNorm2d-6          [-1, 128, 16, 16]             256\n",
            "              ReLU-7          [-1, 128, 16, 16]               0\n",
            "   ConvTranspose2d-8           [-1, 64, 32, 32]         131,072\n",
            "       BatchNorm2d-9           [-1, 64, 32, 32]             128\n",
            "             ReLU-10           [-1, 64, 32, 32]               0\n",
            "           Conv2d-11            [-1, 3, 32, 32]           1,728\n",
            "             Tanh-12            [-1, 3, 32, 32]               0\n",
            "================================================================\n",
            "Total params: 2,120,256\n",
            "Trainable params: 2,120,256\n",
            "Non-trainable params: 0\n",
            "----------------------------------------------------------------\n",
            "Input size (MB): 0.00\n",
            "Forward/backward pass size (MB): 2.70\n",
            "Params size (MB): 8.09\n",
            "Estimated Total Size (MB): 10.79\n",
            "----------------------------------------------------------------\n"
          ]
        }
      ]
    },
    {
      "cell_type": "markdown",
      "source": [
        "Train model"
      ],
      "metadata": {
        "id": "DrgB6QSxfRWK"
      }
    },
    {
      "cell_type": "code",
      "execution_count": null,
      "metadata": {
        "colab": {
          "base_uri": "https://localhost:8080/",
          "height": 610
        },
        "id": "fn8RKyxLZxhG",
        "outputId": "40fc9d4e-6379-4d55-c6f1-362b3c0207f0"
      },
      "outputs": [
        {
          "output_type": "display_data",
          "data": {
            "text/plain": [
              "<Figure size 1440x720 with 12 Axes>"
            ],
            "image/png": "[encoded data removed]"
          },
          "metadata": {}
        },
        {
          "output_type": "stream",
          "name": "stdout",
          "text": [
            "Epoch 0: g_loss: 21.62093735 d_loss: -73.51822186\r\n"
          ]
        }
      ],
      "source": [
        "# Create optimizer\n",
        "if (useWGAN):\n",
        "  d_opt = torch.optim.RMSprop(d.parameters(), lr=0.00005)\n",
        "  g_opt = torch.optim.RMSprop(g.parameters(), lr=0.00005)\n",
        "else:\n",
        "  d_opt = torch.optim.Adam(d.parameters(), lr=0.0001, betas=(0.5, 0.999))\n",
        "  g_opt = torch.optim.Adam(g.parameters(),  lr=0.0001, betas=(0.5, 0.999))\n",
        "\n",
        "# Choose loss function\n",
        "if (useLSGAN):\n",
        "  d_loss_fun = nn.MSELoss()\n",
        "else:\n",
        "  d_loss_fun = nn.BCELoss()\n",
        "\n",
        "# Setup training\n",
        "images_fig = plt.figure(figsize=(20,10))\n",
        "subplots = [plt.subplot(2, 6, k+1) for k in range(12)]\n",
        "num_epochs = 10\n",
        "if (useWGAN):\n",
        "  iterations_discriminator = 5\n",
        "else:\n",
        "  iterations_discriminator = 1\n",
        "\n",
        "# Set models to training mode\n",
        "d.train()\n",
        "g.train()\n",
        "epoch_size = len(train_loader)\n",
        "FIDValues = []\n",
        "timePassed = time.time()\n",
        "for epoch in range(num_epochs):\n",
        "    # Reset\n",
        "    g_loss = d_loss = 0.0\n",
        "    g_losses = []\n",
        "    d_losses = []\n",
        "    subplots[-1].clear()\n",
        "\n",
        "    # Save models\n",
        "    torch.save(g.state_dict(), \"generator.pt\")\n",
        "    torch.save(d.state_dict(), \"discriminator.pt\")\n",
        "\n",
        "    # Compute FID\n",
        "    if (device == 'cuda'):\n",
        "      FIDValues.append(compute_fid(g, 20, True))\n",
        "    else:\n",
        "      FIDValues.append(compute_fid(g, 20, False))\n",
        "\n",
        "    # Update FID plot\n",
        "    x = np.arange(0, epoch + 1)\n",
        "    FID_fig, ax = plt.subplots(1)\n",
        "    ax.plot(x, FIDValues)\n",
        "    ax.set_xlabel('Epoch')\n",
        "    ax.set_ylabel('FID')\n",
        "    ax.set_title('Training - FID score for each epoch')\n",
        "    FID_fig.savefig(\"training_fid.png\")\n",
        "    FID_fig.clear()\n",
        "\n",
        "    for i in range(epoch_size):\n",
        "\n",
        "        def train_discriminator(optimizer):\n",
        "            \n",
        "            #train discriminator to recognize real images\n",
        "            loss = 0.0\n",
        "            for k in range(iterations_discriminator):\n",
        "                d.zero_grad() #reset gradients\n",
        "\n",
        "                # Get batch of real images\n",
        "                x, target = next(iter(train_loader))\n",
        "                x_real = x.to(device)\n",
        "\n",
        "                # Get batch of fake images\n",
        "                x_fake = g(make_noise(batch_size, g.input_size))\n",
        "        \n",
        "                #remember to detach x_fake before using it to compute the discriminator loss\n",
        "                #otherwise the discriminator loss will backpropagate through the generator as well, which is unnecessary.\n",
        "                x_fake = x_fake.detach()\n",
        "\n",
        "                # Train discriminator on real images\n",
        "                prediction_real = d(x_real)\n",
        "                n_real = prediction_real.size(0) #get batch size\n",
        "\n",
        "                # Train discriminator on fake fake images\n",
        "                prediction_fake = d(x_fake)\n",
        "                n_fake = prediction_fake.size(0) #get batch size\n",
        "\n",
        "                # loss function\n",
        "                if (useWGAN):\n",
        "                  d_loss = -prediction_real.mean() + prediction_fake.mean()\n",
        "                else:\n",
        "                  d_loss = d_loss_fun(prediction_real, make_ones(n_real)) + d_loss_fun(prediction_fake, make_zeros(n_fake))\n",
        "\n",
        "                # gradient penality\n",
        "                if (useGradientPenality):\n",
        "                  gp = gradient_penalty(d, x_real, x_fake)\n",
        "                  d_loss += gp\n",
        "                \n",
        "                # Backprop\n",
        "                d_loss.backward()\n",
        "        \n",
        "                #update weights\n",
        "                optimizer.step()\n",
        "\n",
        "                # Clip discriminator weights\n",
        "                if (useWeightClipping):\n",
        "                  for parm in d.parameters():\n",
        "                    parm.data.clamp_(-weights_clip_value, weights_clip_value)\n",
        "                \n",
        "                # Update loss\n",
        "                loss += d_loss.detach().cpu().numpy()\n",
        "            return loss\n",
        "\n",
        "        def train_generator(optimizer):\n",
        "            g.zero_grad() #reset gradients\n",
        "\n",
        "            x_fake = g(make_noise(batch_size, g.input_size))\n",
        "        \n",
        "            #train generator to fool discriminator\n",
        "            prediction = d(x_fake)\n",
        "            n = prediction.size(0) #get batch size\n",
        "            if (useWGAN):\n",
        "              g_loss = -prediction.mean() # Maximize prediction\n",
        "            else:\n",
        "              g_loss = d_loss_fun(prediction, make_ones(n))\n",
        "            g_loss.backward()\n",
        "        \n",
        "            #update weights\n",
        "            optimizer.step()\n",
        "\n",
        "            return g_loss.detach().cpu().numpy()\n",
        "        \n",
        "        #====================\n",
        "        # Update discriminator\n",
        "        #====================\n",
        "        #make real and fake image\n",
        "        d_losses.append(train_discriminator(d_opt))\n",
        "        d_loss += d_losses[-1]\n",
        "        \n",
        "        #========================\n",
        "        # Update generator\n",
        "        #========================\n",
        "        #feed random noise to generator\n",
        "        g_losses.append(train_generator(g_opt))\n",
        "        g_loss += g_losses[-1]\n",
        "        \n",
        "        assert(not np.isnan(d_loss))\n",
        "        #Plot results every 100 minibatches\n",
        "        if i % 100 == 0:\n",
        "            with torch.no_grad():\n",
        "                x_fake = g(make_noise(batch_size, g.input_size)).detach()\n",
        "                P = d(x_fake)\n",
        "                for k in range(11):\n",
        "                    x_fake_k = x_fake[k].cpu().squeeze() / 2 + 0.5 # between 0,1\n",
        "                    if (nc > 1): #change format with channels in the end for imshow\n",
        "                      x_fake_k = x_fake_k.swapaxes(0,1)\n",
        "                      x_fake_k = x_fake_k.swapaxes(1,2)\n",
        "                    subplots[k].imshow(x_fake_k)\n",
        "                    subplots[k].set_title('d(x)=%.2f' % P[k])\n",
        "                    subplots[k].axis('off')\n",
        "                #subplots[-1].cla()\n",
        "                subplots[-1].plot(np.arange(len(g_losses)), g_losses)\n",
        "                subplots[-1].plot(np.arange(len(d_losses)), d_losses)\n",
        "                #subplots[-1].set_xlabel('Probability of being real')\n",
        "                subplots[-1].set_title('Discriminator and generator training loss')\n",
        "                \n",
        "                title = 'Epoch {e} - minibatch {n}/{d} - FID_epoch: {l} - 100it/s = {t}'.format(e=epoch+1, n=i, d=epoch_size, l=FIDValues[-1], t=(time.time() - timePassed))\n",
        "                images_fig.suptitle(title, fontsize=20)\n",
        "                display.display(images_fig)\n",
        "                print('Epoch {}: g_loss: {:.8f} d_loss: {:.8f}\\r'.format(epoch, g_loss/max(1, i), d_loss/max(1, i)))\n",
        "                display.clear_output(wait=True)\n",
        "\n",
        "                # Updatetime\n",
        "                timePassed = time.time()\n",
        "\n",
        "                # Set model to train\n",
        "                d.train()\n",
        "                g.train()\n",
        "                "
      ]
    },
    {
      "cell_type": "code",
      "source": [
        "g.load_state_dict(torch.load(\"generator.pt\"))\n",
        "print(compute_fid(g, 20, False))"
      ],
      "metadata": {
        "id": "YOn-eJq7MH8U"
      },
      "execution_count": null,
      "outputs": []
    },
    {
      "cell_type": "code",
      "source": [
        "!python3 -m pytorch_fid --device cuda:0 ./dataset_fake/ ./dataset_real/"
      ],
      "metadata": {
        "id": "UeISJHuoU_fw"
      },
      "execution_count": null,
      "outputs": []
    },
    {
      "cell_type": "code",
      "execution_count": null,
      "metadata": {
        "id": "dVlpyK84Z5lV"
      },
      "outputs": [],
      "source": [
        "def interpolate_linear_points(p1, p2, n_steps=10):\n",
        "    # interpolate ratios between the points\n",
        "    ratios = np.linspace(0, 1, num=n_steps)\n",
        "    # linear interpolate vectors\n",
        "    vectors = list()\n",
        "    for ratio in ratios:\n",
        "        v = (1.0 - ratio) * p1 + ratio * p2\n",
        "    vectors.append(v)\n",
        "    return asarray(vectors)\n",
        "\n",
        "# spherical linear interpolation (slerp)\n",
        "def slerp(val, low, high):\n",
        "    omega = arccos(clip(dot(low/norm(low), high/norm(high)), -1, 1))\n",
        "    so = sin(omega)\n",
        "    if so == 0:\n",
        "        # L'Hopital's rule/LERP\n",
        "        return (1.0-val) * low + val * high\n",
        "    return sin((1.0-val)*omega) / so * low + sin(val*omega) / so * high\n",
        " \n",
        "# uniform interpolation between two points in latent space\n",
        "def interpolate_spherical_points(p1, p2, n_steps=10):\n",
        "    # interpolate ratios between the points\n",
        "    ratios = np.linspace(0, 1, num=n_steps)\n",
        "    # linear interpolate vectors\n",
        "    vectors = list()\n",
        "    for ratio in ratios:\n",
        "        v = slerp(ratio, p1, p2)\n",
        "        vectors.append(v)\n",
        "    return asarray(vectors)\n",
        "\n",
        "print(interpolate_linear_points([0, 1, 0], [1, 0, 1]))"
      ]
    },
    {
      "cell_type": "markdown",
      "metadata": {
        "id": "hkxvhqFMZ5lV"
      },
      "source": [
        "## WGAN\n",
        "The differences in implementation for the WGAN are as follows:\n",
        "1. Use a linear activation function in the output layer of the critic model (instead of sigmoid). DONE\n",
        "2. Use -1 labels for real images and 1 labels for fake images (instead of 1 and 0). DONE\n",
        "3. Use Wasserstein loss to train the critic and generator models. DONE\n",
        "4. Constrain critic model weights to a limited range after each mini batch update (e.g. [-0.01,0.01]). DONE\n",
        "5. Update the critic model more times than the generator each iteration (e.g. 5). DONE\n",
        "6. Use the RMSProp version of gradient descent with a small learning rate and no momentum (e.g. 0.00005). DONE\n"
      ]
    }
  ],
  "metadata": {
    "accelerator": "GPU",
    "colab": {
      "provenance": []
    },
    "kernelspec": {
      "display_name": "Python 3.9.6 64-bit",
      "language": "python",
      "name": "python3"
    },
    "language_info": {
      "codemirror_mode": {
        "name": "ipython",
        "version": 3
      },
      "file_extension": ".py",
      "mimetype": "text/x-python",
      "name": "python",
      "nbconvert_exporter": "python",
      "pygments_lexer": "ipython3",
      "version": "3.9.6"
    },
    "vscode": {
      "interpreter": {
        "hash": "31f2aee4e71d21fbe5cf8b01ff0e069b9275f58929596ceb00d14d90e3e16cd6"
      }
    },
    "gpuClass": "standard"
  },
  "nbformat": 4,
  "nbformat_minor": 0
}